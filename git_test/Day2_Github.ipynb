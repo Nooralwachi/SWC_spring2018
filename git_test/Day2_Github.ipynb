{
 "cells": [
  {
   "cell_type": "markdown",
   "metadata": {},
   "source": [
    "# literate programming"
   ]
  },
  {
   "cell_type": "markdown",
   "metadata": {},
   "source": [
    "**bold**"
   ]
  },
  {
   "cell_type": "markdown",
   "metadata": {},
   "source": [
    ">text\n",
    ">here"
   ]
  },
  {
   "cell_type": "markdown",
   "metadata": {},
   "source": [
    "# h1 Heading\n",
    "## h2 Heading\n",
    "### h3 Heading\n",
    "#### h4 Heading\n",
    "##### h5 Heading\n",
    "###### h6 Heading"
   ]
  },
  {
   "cell_type": "markdown",
   "metadata": {},
   "source": [
    "_rendered as italicized text_"
   ]
  },
  {
   "cell_type": "markdown",
   "metadata": {},
   "source": [
    "~~Strike through this text.~~"
   ]
  },
  {
   "cell_type": "markdown",
   "metadata": {},
   "source": [
    "Add `>` before any text you want to quote. "
   ]
  },
  {
   "cell_type": "markdown",
   "metadata": {},
   "source": [
    "> Donec massa lacus, ultricies a ullamcorper in, fermentum sed augue. \n",
    "Nunc augue augue, aliquam non hendrerit ac, commodo vel nisi. \n",
    ">> Sed adipiscing elit vitae augue consectetur a gravida nunc vehicula. Donec auctor \n",
    "odio non est accumsan facilisis. Aliquam id turpis in dolor tincidunt mollis ac eu diam.\n",
    ">>> Donec massa lacus, ultricies a ullamcorper in, fermentum sed augue. \n",
    "Nunc augue augue, aliquam non hendrerit ac, commodo vel nisi. "
   ]
  },
  {
   "cell_type": "markdown",
   "metadata": {},
   "source": [
    "+ Lorem ipsum dolor sit amet\n",
    "+ Consectetur adipiscing elit\n",
    "+ Integer molestie lorem at massa\n",
    "+ Facilisis in pretium nisl aliquet\n",
    "+ Nulla volutpat aliquam velit\n",
    "  - Phasellus iaculis neque\n",
    "  - Purus sodales ultricies\n",
    "  - Vestibulum laoreet porttitor sem\n",
    "  - Ac tristique libero volutpat at\n",
    "+ Faucibus porta lacus fringilla vel\n",
    "+ Aenean sit amet erat nunc\n",
    "+ Eget porttitor lorem"
   ]
  },
  {
   "cell_type": "markdown",
   "metadata": {},
   "source": [
    "1. Lorem ipsum dolor sit amet\n",
    "2. Consectetur adipiscing elit\n",
    "3. Integer molestie lorem at massa\n",
    "4. Facilisis in pretium nisl aliquet\n",
    "5. Nulla volutpat aliquam velit\n",
    "6. Faucibus porta lacus fringilla vel\n",
    "7. Aenean sit amet erat nunc\n",
    "8. Eget porttitor lorem"
   ]
  },
  {
   "cell_type": "markdown",
   "metadata": {},
   "source": [
    "1. Lorem ipsum dolor sit amet\n",
    "1. Consectetur adipiscing elit\n",
    "1. Integer molestie lorem at massa\n",
    "1. Facilisis in pretium nisl aliquet\n",
    "1. Nulla volutpat aliquam velit\n",
    "1. Faucibus porta lacus fringilla vel\n",
    "1. Aenean sit amet erat nunc\n",
    "1. Eget porttitor lorem"
   ]
  },
  {
   "cell_type": "markdown",
   "metadata": {},
   "source": [
    "For example, `<section></section>` should be wrapped as \"inline\"."
   ]
  },
  {
   "cell_type": "markdown",
   "metadata": {},
   "source": [
    "    // Some comments\n",
    "    line 1 of code\n",
    "    line 2 of code\n",
    "    line 3 of code"
   ]
  },
  {
   "cell_type": "markdown",
   "metadata": {},
   "source": [
    "| Option | Description |\n",
    "| ------ | ----------- |\n",
    "| data   | path to data files to supply the data that will be passed into templates. |\n",
    "| engine | engine to be used for processing templates. Handlebars is the default. |\n",
    "| ext    | extension to be used for dest files. |"
   ]
  },
  {
   "cell_type": "markdown",
   "metadata": {},
   "source": [
    "[Assemble](http://assemble.io)\n"
   ]
  },
  {
   "cell_type": "markdown",
   "metadata": {},
   "source": [
    "# Table of Contents\n",
    "  * [Chapter 1](#chapter-1)\n",
    "  * [Chapter 2](#chapter-2)\n",
    "  * [Chapter 3](#chapter-3)"
   ]
  },
  {
   "cell_type": "markdown",
   "metadata": {},
   "source": [
    "![Minion](http://octodex.github.com/images/minion.png)"
   ]
  },
  {
   "cell_type": "code",
   "execution_count": null,
   "metadata": {},
   "outputs": [],
   "source": []
  }
 ],
 "metadata": {
  "kernelspec": {
   "display_name": "Python 3",
   "language": "python",
   "name": "python3"
  },
  "language_info": {
   "codemirror_mode": {
    "name": "ipython",
    "version": 3
   },
   "file_extension": ".py",
   "mimetype": "text/x-python",
   "name": "python",
   "nbconvert_exporter": "python",
   "pygments_lexer": "ipython3",
   "version": "3.6.4"
  }
 },
 "nbformat": 4,
 "nbformat_minor": 2
}
